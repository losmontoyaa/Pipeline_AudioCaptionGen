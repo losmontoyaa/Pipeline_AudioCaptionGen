{
  "nbformat": 4,
  "nbformat_minor": 0,
  "metadata": {
    "colab": {
      "provenance": [],
      "authorship_tag": "ABX9TyNnMaSlQl+z6l4NALJKQAA1",
      "include_colab_link": true
    },
    "kernelspec": {
      "name": "python3",
      "display_name": "Python 3"
    },
    "language_info": {
      "name": "python"
    }
  },
  "cells": [
    {
      "cell_type": "markdown",
      "metadata": {
        "id": "view-in-github",
        "colab_type": "text"
      },
      "source": [
        "<a href=\"https://colab.research.google.com/github/losmontoyaa/Pipeline_AudioCaptionGen/blob/main/IAT360_MovieCap_Pipeline_Caption%26AudioCreator_v1.ipynb\" target=\"_parent\"><img src=\"https://colab.research.google.com/assets/colab-badge.svg\" alt=\"Open In Colab\"/></a>"
      ]
    },
    {
      "cell_type": "code",
      "execution_count": null,
      "metadata": {
        "id": "2zXQeAPdUJXh",
        "collapsed": true
      },
      "outputs": [],
      "source": [
        "pip install -r requirements.txt"
      ]
    },
    {
      "cell_type": "code",
      "source": [
        "import openai\n",
        "from elevenlabs import generate, stream, set_api_key, voices, play, save\n",
        "import keyboard\n",
        "import os\n",
        "import time"
      ],
      "metadata": {
        "id": "MwBI5mAor2aM"
      },
      "execution_count": 3,
      "outputs": []
    },
    {
      "cell_type": "code",
      "source": [
        "#Key is given along with the submission, unfortunately I could not include it here otherwise OpenAI deletes it and I have to create a new one.\n",
        "#Please paste the key in the quotations\n",
        "openai.api_key = 'INSERT_OPENAI_KEY_HERE'"
      ],
      "metadata": {
        "id": "I4H43jHD1oiR"
      },
      "execution_count": 4,
      "outputs": []
    },
    {
      "cell_type": "markdown",
      "source": [
        "The following code blocks are a modefied, stripped back version of an application named **Babagaboosh** created by a user named DougDoug.\n",
        "\n",
        "https://github.com/DougDougGithub/Babagaboosh\n",
        "\n",
        "The original version of this app was used for entertainment purposes, making OpenAI behave as a character which he would then have a back and forth conversation with for comedic effect. For our purposes, we've modefied it to take in prompts from YOWO/PyTorch and rewrite them in a descriptive, narrative way using OpenAI's API, which are then converted into descriptive audio files using [ElevenLabs](https://elevenlabs.io/) API.\n",
        "\n"
      ],
      "metadata": {
        "id": "BP1n1KvutSuM"
      }
    },
    {
      "cell_type": "code",
      "source": [
        "#attempts to set API key for ElevenLabs (will disable after grades are finalized)\n",
        "try:\n",
        "  set_api_key('sk_32bb9761c62c4c09840bc3dd1ccd25e6a076e75055472b64')\n",
        "except TypeError:\n",
        "  exit(\"Ooops! You forgot to set ELEVENLABS_API_KEY in your environment!\") #if key isn't given, throw an error message\n",
        "\n",
        "class ElevenLabsManager:\n",
        "\n",
        "    def __init__(self):\n",
        "        # CALLING voices() IS NECESSARY TO INSTANTIATE 11LABS\n",
        "        all_voices = voices()\n",
        "\n",
        "    # Convert text to speech, then save it to file. Returns the file path\n",
        "    def text_to_audio(self, input_text, voice=\"Doug VO Only\", save_as_wave=True, subdirectory=\"\"):\n",
        "        audio_saved = generate(\n",
        "          text=input_text,\n",
        "          voice=voice,\n",
        "          model=\"eleven_monolingual_v1\"\n",
        "        )\n",
        "        if save_as_wave:\n",
        "          file_name = f\"Msg_{str(input_text)}.wav\"\n",
        "        else:\n",
        "          file_name = f\"Msg_{str(input_text)}.mp3\"\n",
        "        tts_file = os.path.join(os.path.abspath(os.curdir), subdirectory, file_name)\n",
        "        save(audio_saved,tts_file)\n",
        "        return tts_file\n"
      ],
      "metadata": {
        "id": "DR1r3IZ1o-3V"
      },
      "execution_count": 6,
      "outputs": []
    },
    {
      "cell_type": "markdown",
      "source": [
        "The ChatGPT chatbot was created with the help of a [tutorial](https://www.youtube.com/watch?v=Vurdg6yrPL8&list=PLpdmBGJ6ELUIYHjmzYTuePlNRf7yeCACz&index=1) i found on Youtube.\n"
      ],
      "metadata": {
        "id": "pklrXu1qAlzt"
      }
    },
    {
      "cell_type": "code",
      "source": [
        "ELEVENLABS_VOICE = \"Oliver Haddington\" # Voice ElevenLabs will use to generate audio sample\n",
        "\n",
        "elevenlabs_manager = ElevenLabsManager()\n",
        "\n",
        "#Prompt engineering for our bot\n",
        "messages = [{\"role\": \"system\", \"content\": '''\n",
        "You are a bot made to rewrite sentences in a descriptive, narrative manner as if you were explaining a movie scene to someone that is visually impaired.\n",
        "\n",
        "You will be given a series of sentences which describe a given scene, your task is to rewrite these sentences.\n",
        "\n",
        "While responding, you must obey the following rules:\n",
        "1) Responses should be limited to 1-2 sentences.\n",
        "2) The original meaning of the sentence must be kept in tact, no matter what. However, you may change syntax as necessary.\n",
        "3) Be as descriptive as possible, while remaining concise.\n",
        "4) Do not add narrative details besides those included in the sentence.\n",
        "\n",
        "Let the conversation begin!'''}]\n",
        "\n",
        "while True:\n",
        "  message = input(\"Shot Description: \")\n",
        "  if message == \"/exit model\": #if exit model is typed, break out of loop\n",
        "    break\n",
        "  if message:\n",
        "      messages.append({\"role\" : \"user\", \"content\" : message},)\n",
        "      chat = openai.ChatCompletion.create(model=\"gpt-4o\", messages=messages)\n",
        "      reply = chat.choices[0].message.content\n",
        "      print(reply)\n",
        "      elevenlabs_output = elevenlabs_manager.text_to_audio(reply, ELEVENLABS_VOICE,False)\n",
        "      messages.append({\"role\" : \"assistant\", \"content\" : reply})\n",
        "      print(\"Audio File Created!\")"
      ],
      "metadata": {
        "colab": {
          "base_uri": "https://localhost:8080/"
        },
        "id": "37Bh5jngrkZ0",
        "outputId": "905430ef-7779-43af-9522-6d904394f064"
      },
      "execution_count": 10,
      "outputs": [
        {
          "name": "stdout",
          "output_type": "stream",
          "text": [
            "Shot Description: A girl in a red hood walks through a forest.\n",
            "A young girl, sporting a bright red hood, meanders through the dense, shadowy forest, her footsteps muffled by the carpet of leaves beneath.\n",
            "Audio File Created!\n",
            "Shot Description: /exit model\n"
          ]
        }
      ]
    },
    {
      "cell_type": "markdown",
      "source": [
        "The shot description I have used to test the model is:\n",
        "\n",
        "#A girl in a red hood walks through a forest."
      ],
      "metadata": {
        "id": "nNOQZvgRzl3v"
      }
    }
  ]
}